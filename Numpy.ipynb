{
 "cells": [
  {
   "cell_type": "code",
   "execution_count": 16,
   "id": "5a5f4b26",
   "metadata": {},
   "outputs": [],
   "source": [
    "import numpy as np\n",
    "import pandas as pd"
   ]
  },
  {
   "cell_type": "markdown",
   "id": "57f9d67c",
   "metadata": {},
   "source": [
    " Numpy is used very widely and it will be used every where.\n",
    "    for examole in deep learning, Computer vision, NLP evrywhere Numpy is used. it is an intigral part of data science. Even pandas written with help of numpy."
   ]
  },
  {
   "cell_type": "code",
   "execution_count": 3,
   "id": "a1fa5425",
   "metadata": {},
   "outputs": [],
   "source": [
    "l = ['Vraj',1,2,3,4]"
   ]
  },
  {
   "cell_type": "code",
   "execution_count": 4,
   "id": "3179a04a",
   "metadata": {},
   "outputs": [
    {
     "data": {
      "text/plain": [
       "list"
      ]
     },
     "execution_count": 4,
     "metadata": {},
     "output_type": "execute_result"
    }
   ],
   "source": [
    "type(l)"
   ]
  },
  {
   "cell_type": "markdown",
   "id": "b2c82414",
   "metadata": {},
   "source": [
    "The list and array is the same but they both are different datatypes. Array are represented in n- dimentiional arrays."
   ]
  },
  {
   "cell_type": "code",
   "execution_count": 5,
   "id": "1df5bacc",
   "metadata": {},
   "outputs": [
    {
     "data": {
      "text/plain": [
       "array(['Vraj', '1', '2', '3', '4'], dtype='<U11')"
      ]
     },
     "execution_count": 5,
     "metadata": {},
     "output_type": "execute_result"
    }
   ],
   "source": [
    "# to convert the list in to array\n",
    "np.array(l)"
   ]
  },
  {
   "cell_type": "code",
   "execution_count": 6,
   "id": "b3c8edab",
   "metadata": {},
   "outputs": [
    {
     "data": {
      "text/plain": [
       "numpy.ndarray"
      ]
     },
     "execution_count": 6,
     "metadata": {},
     "output_type": "execute_result"
    }
   ],
   "source": [
    "type(np.array(l))"
   ]
  },
  {
   "cell_type": "markdown",
   "id": "0fa973bf",
   "metadata": {},
   "source": [
    "If a single value has different datatype it automatically upcasts the whole list or array."
   ]
  },
  {
   "cell_type": "code",
   "execution_count": 7,
   "id": "833e29c3",
   "metadata": {},
   "outputs": [
    {
     "data": {
      "text/plain": [
       "array([ 3., 45.,  5.,  3.,  5.])"
      ]
     },
     "execution_count": 7,
     "metadata": {},
     "output_type": "execute_result"
    }
   ],
   "source": [
    "np.array([3,45,5,3.0,5])"
   ]
  },
  {
   "cell_type": "code",
   "execution_count": 10,
   "id": "e62646c1",
   "metadata": {},
   "outputs": [],
   "source": [
    "a = np.array([[1,2],[3,4]])"
   ]
  },
  {
   "cell_type": "markdown",
   "id": "81dd2648",
   "metadata": {},
   "source": [
    "The list above inside array are converted into matrix. which means it converts the elements into rows and columns"
   ]
  },
  {
   "cell_type": "code",
   "execution_count": 11,
   "id": "ac7656b0",
   "metadata": {},
   "outputs": [
    {
     "data": {
      "text/plain": [
       "array([[1, 2],\n",
       "       [3, 4]])"
      ]
     },
     "execution_count": 11,
     "metadata": {},
     "output_type": "execute_result"
    }
   ],
   "source": [
    "a"
   ]
  },
  {
   "cell_type": "code",
   "execution_count": 13,
   "id": "494d6f0b",
   "metadata": {},
   "outputs": [
    {
     "data": {
      "text/plain": [
       "4"
      ]
     },
     "execution_count": 13,
     "metadata": {},
     "output_type": "execute_result"
    }
   ],
   "source": [
    "a[1][1]"
   ]
  },
  {
   "cell_type": "code",
   "execution_count": 17,
   "id": "969d9757",
   "metadata": {},
   "outputs": [
    {
     "data": {
      "text/html": [
       "<div>\n",
       "<style scoped>\n",
       "    .dataframe tbody tr th:only-of-type {\n",
       "        vertical-align: middle;\n",
       "    }\n",
       "\n",
       "    .dataframe tbody tr th {\n",
       "        vertical-align: top;\n",
       "    }\n",
       "\n",
       "    .dataframe thead th {\n",
       "        text-align: right;\n",
       "    }\n",
       "</style>\n",
       "<table border=\"1\" class=\"dataframe\">\n",
       "  <thead>\n",
       "    <tr style=\"text-align: right;\">\n",
       "      <th></th>\n",
       "      <th>0</th>\n",
       "      <th>1</th>\n",
       "    </tr>\n",
       "  </thead>\n",
       "  <tbody>\n",
       "    <tr>\n",
       "      <th>0</th>\n",
       "      <td>1</td>\n",
       "      <td>2</td>\n",
       "    </tr>\n",
       "    <tr>\n",
       "      <th>1</th>\n",
       "      <td>3</td>\n",
       "      <td>4</td>\n",
       "    </tr>\n",
       "  </tbody>\n",
       "</table>\n",
       "</div>"
      ],
      "text/plain": [
       "   0  1\n",
       "0  1  2\n",
       "1  3  4"
      ]
     },
     "execution_count": 17,
     "metadata": {},
     "output_type": "execute_result"
    }
   ],
   "source": [
    "pd.DataFrame(a)"
   ]
  },
  {
   "cell_type": "markdown",
   "id": "19275015",
   "metadata": {},
   "source": [
    "The ndmin parameter defines the number of dimension of an array. we can also get to know the dimension of array just by counting the number of square brackets. "
   ]
  },
  {
   "cell_type": "code",
   "execution_count": 23,
   "id": "a7ab6155",
   "metadata": {},
   "outputs": [],
   "source": [
    "c=np.array([1,2,3,4,5],ndmin = 4)"
   ]
  },
  {
   "cell_type": "code",
   "execution_count": 24,
   "id": "0ff4a276",
   "metadata": {},
   "outputs": [
    {
     "data": {
      "text/plain": [
       "array([[[[1, 2, 3, 4, 5]]]])"
      ]
     },
     "execution_count": 24,
     "metadata": {},
     "output_type": "execute_result"
    }
   ],
   "source": [
    "c"
   ]
  },
  {
   "cell_type": "code",
   "execution_count": 25,
   "id": "44f88826",
   "metadata": {},
   "outputs": [
    {
     "data": {
      "text/plain": [
       "array([[[1, 2, 3, 4, 5]]])"
      ]
     },
     "execution_count": 25,
     "metadata": {},
     "output_type": "execute_result"
    }
   ],
   "source": [
    "c[0]"
   ]
  },
  {
   "cell_type": "code",
   "execution_count": 26,
   "id": "210bf9fc",
   "metadata": {},
   "outputs": [
    {
     "data": {
      "text/plain": [
       "array([[1, 2, 3, 4, 5]])"
      ]
     },
     "execution_count": 26,
     "metadata": {},
     "output_type": "execute_result"
    }
   ],
   "source": [
    "c[0][0]"
   ]
  },
  {
   "cell_type": "code",
   "execution_count": 27,
   "id": "dc64e404",
   "metadata": {},
   "outputs": [
    {
     "data": {
      "text/plain": [
       "array([1, 2, 3, 4, 5])"
      ]
     },
     "execution_count": 27,
     "metadata": {},
     "output_type": "execute_result"
    }
   ],
   "source": [
    "c[0][0][0]"
   ]
  },
  {
   "cell_type": "code",
   "execution_count": 28,
   "id": "3c4766f5",
   "metadata": {},
   "outputs": [
    {
     "data": {
      "text/plain": [
       "1"
      ]
     },
     "execution_count": 28,
     "metadata": {},
     "output_type": "execute_result"
    }
   ],
   "source": [
    "c[0][0][0][0]"
   ]
  },
  {
   "cell_type": "code",
   "execution_count": 29,
   "id": "6a597060",
   "metadata": {},
   "outputs": [
    {
     "data": {
      "text/plain": [
       "array([ 1,  2,  3, 45,  6,  7])"
      ]
     },
     "execution_count": 29,
     "metadata": {},
     "output_type": "execute_result"
    }
   ],
   "source": [
    "np.asarray([1,2,3,45,6,7])"
   ]
  },
  {
   "cell_type": "code",
   "execution_count": 30,
   "id": "f1e98c30",
   "metadata": {},
   "outputs": [
    {
     "data": {
      "text/plain": [
       "array([ 1,  2,  3, 45,  6,  7])"
      ]
     },
     "execution_count": 30,
     "metadata": {},
     "output_type": "execute_result"
    }
   ],
   "source": [
    "np.asanyarray([1,2,3,45,6,7])"
   ]
  },
  {
   "cell_type": "markdown",
   "id": "b3336268",
   "metadata": {},
   "source": [
    "The matrix is another form of an array but it returns the data with 2-D data"
   ]
  },
  {
   "cell_type": "code",
   "execution_count": 31,
   "id": "adafff86",
   "metadata": {},
   "outputs": [
    {
     "data": {
      "text/plain": [
       "matrix([[1, 2, 3, 4, 5]])"
      ]
     },
     "execution_count": 31,
     "metadata": {},
     "output_type": "execute_result"
    }
   ],
   "source": [
    "np.mat([1,2,3,4,5])"
   ]
  },
  {
   "cell_type": "code",
   "execution_count": 32,
   "id": "80868d2b",
   "metadata": {},
   "outputs": [
    {
     "data": {
      "text/plain": [
       "array([ 1,  2, 34,  5,  6])"
      ]
     },
     "execution_count": 32,
     "metadata": {},
     "output_type": "execute_result"
    }
   ],
   "source": [
    "a= [1,2,34,5,6]\n",
    "np.asarray(a)"
   ]
  },
  {
   "cell_type": "code",
   "execution_count": 33,
   "id": "d4bc52b5",
   "metadata": {},
   "outputs": [
    {
     "data": {
      "text/plain": [
       "array([ 1,  2, 34,  5,  6])"
      ]
     },
     "execution_count": 33,
     "metadata": {},
     "output_type": "execute_result"
    }
   ],
   "source": [
    "np.asanyarray(a)"
   ]
  },
  {
   "cell_type": "code",
   "execution_count": 34,
   "id": "dea7851a",
   "metadata": {},
   "outputs": [
    {
     "data": {
      "text/plain": [
       "array([ 1,  2, 34,  5,  6])"
      ]
     },
     "execution_count": 34,
     "metadata": {},
     "output_type": "execute_result"
    }
   ],
   "source": [
    "np.asarray(a)"
   ]
  },
  {
   "cell_type": "code",
   "execution_count": 35,
   "id": "3270202b",
   "metadata": {},
   "outputs": [
    {
     "data": {
      "text/plain": [
       "matrix([[ 1,  2, 34,  5,  6]])"
      ]
     },
     "execution_count": 35,
     "metadata": {},
     "output_type": "execute_result"
    }
   ],
   "source": [
    "np.mat(a)"
   ]
  },
  {
   "cell_type": "markdown",
   "id": "652ec749",
   "metadata": {},
   "source": [
    "The np.asanyarray is doing that if the any of given data is in form array it will keep it as an array. if the given data is not in form of an array, it converts the data into an array."
   ]
  },
  {
   "cell_type": "code",
   "execution_count": 37,
   "id": "a5f2be5e",
   "metadata": {},
   "outputs": [
    {
     "data": {
      "text/plain": [
       "matrix([[ 1,  2, 34,  5,  6]])"
      ]
     },
     "execution_count": 37,
     "metadata": {},
     "output_type": "execute_result"
    }
   ],
   "source": [
    "np.asanyarray(np.mat(a)) #the matrix is an form of array so it kept as an array only"
   ]
  },
  {
   "cell_type": "markdown",
   "id": "2c25a37e",
   "metadata": {},
   "source": [
    "We can make an matrix with the help of np.fromfunction"
   ]
  },
  {
   "cell_type": "code",
   "execution_count": 38,
   "id": "967ff157",
   "metadata": {},
   "outputs": [
    {
     "data": {
      "text/plain": [
       "array([[ True, False, False],\n",
       "       [False,  True, False],\n",
       "       [False, False,  True]])"
      ]
     },
     "execution_count": 38,
     "metadata": {},
     "output_type": "execute_result"
    }
   ],
   "source": [
    "np.fromfunction(lambda i, j: i == j,(3,3))"
   ]
  },
  {
   "cell_type": "code",
   "execution_count": 45,
   "id": "8a123acf",
   "metadata": {},
   "outputs": [
    {
     "ename": "ValueError",
     "evalue": "shape too large to be a matrix.",
     "output_type": "error",
     "traceback": [
      "\u001b[1;31m---------------------------------------------------------------------------\u001b[0m",
      "\u001b[1;31mValueError\u001b[0m                                Traceback (most recent call last)",
      "Cell \u001b[1;32mIn[45], line 1\u001b[0m\n\u001b[1;32m----> 1\u001b[0m np\u001b[38;5;241m.\u001b[39mmat(np\u001b[38;5;241m.\u001b[39mfromfunction(\u001b[38;5;28;01mlambda\u001b[39;00m i,j,k: i\u001b[38;5;241m*\u001b[39mj\u001b[38;5;241m*\u001b[39mk,(\u001b[38;5;241m4\u001b[39m,\u001b[38;5;241m4\u001b[39m,\u001b[38;5;241m5\u001b[39m),dtype\u001b[38;5;241m=\u001b[39m\u001b[38;5;124m'\u001b[39m\u001b[38;5;124mint\u001b[39m\u001b[38;5;124m'\u001b[39m))\n",
      "File \u001b[1;32m~\\anaconda3\\Lib\\site-packages\\numpy\\matrixlib\\defmatrix.py:69\u001b[0m, in \u001b[0;36masmatrix\u001b[1;34m(data, dtype)\u001b[0m\n\u001b[0;32m     36\u001b[0m \u001b[38;5;129m@set_module\u001b[39m(\u001b[38;5;124m'\u001b[39m\u001b[38;5;124mnumpy\u001b[39m\u001b[38;5;124m'\u001b[39m)\n\u001b[0;32m     37\u001b[0m \u001b[38;5;28;01mdef\u001b[39;00m \u001b[38;5;21masmatrix\u001b[39m(data, dtype\u001b[38;5;241m=\u001b[39m\u001b[38;5;28;01mNone\u001b[39;00m):\n\u001b[0;32m     38\u001b[0m \u001b[38;5;250m    \u001b[39m\u001b[38;5;124;03m\"\"\"\u001b[39;00m\n\u001b[0;32m     39\u001b[0m \u001b[38;5;124;03m    Interpret the input as a matrix.\u001b[39;00m\n\u001b[0;32m     40\u001b[0m \n\u001b[1;32m   (...)\u001b[0m\n\u001b[0;32m     67\u001b[0m \n\u001b[0;32m     68\u001b[0m \u001b[38;5;124;03m    \"\"\"\u001b[39;00m\n\u001b[1;32m---> 69\u001b[0m     \u001b[38;5;28;01mreturn\u001b[39;00m matrix(data, dtype\u001b[38;5;241m=\u001b[39mdtype, copy\u001b[38;5;241m=\u001b[39m\u001b[38;5;28;01mFalse\u001b[39;00m)\n",
      "File \u001b[1;32m~\\anaconda3\\Lib\\site-packages\\numpy\\matrixlib\\defmatrix.py:135\u001b[0m, in \u001b[0;36mmatrix.__new__\u001b[1;34m(subtype, data, dtype, copy)\u001b[0m\n\u001b[0;32m    133\u001b[0m \u001b[38;5;28;01melse\u001b[39;00m:\n\u001b[0;32m    134\u001b[0m     intype \u001b[38;5;241m=\u001b[39m N\u001b[38;5;241m.\u001b[39mdtype(dtype)\n\u001b[1;32m--> 135\u001b[0m new \u001b[38;5;241m=\u001b[39m data\u001b[38;5;241m.\u001b[39mview(subtype)\n\u001b[0;32m    136\u001b[0m \u001b[38;5;28;01mif\u001b[39;00m intype \u001b[38;5;241m!=\u001b[39m data\u001b[38;5;241m.\u001b[39mdtype:\n\u001b[0;32m    137\u001b[0m     \u001b[38;5;28;01mreturn\u001b[39;00m new\u001b[38;5;241m.\u001b[39mastype(intype)\n",
      "File \u001b[1;32m~\\anaconda3\\Lib\\site-packages\\numpy\\matrixlib\\defmatrix.py:180\u001b[0m, in \u001b[0;36mmatrix.__array_finalize__\u001b[1;34m(self, obj)\u001b[0m\n\u001b[0;32m    178\u001b[0m         \u001b[38;5;28;01mreturn\u001b[39;00m\n\u001b[0;32m    179\u001b[0m     \u001b[38;5;28;01melif\u001b[39;00m (ndim \u001b[38;5;241m>\u001b[39m \u001b[38;5;241m2\u001b[39m):\n\u001b[1;32m--> 180\u001b[0m         \u001b[38;5;28;01mraise\u001b[39;00m \u001b[38;5;167;01mValueError\u001b[39;00m(\u001b[38;5;124m\"\u001b[39m\u001b[38;5;124mshape too large to be a matrix.\u001b[39m\u001b[38;5;124m\"\u001b[39m)\n\u001b[0;32m    181\u001b[0m \u001b[38;5;28;01melse\u001b[39;00m:\n\u001b[0;32m    182\u001b[0m     newshape \u001b[38;5;241m=\u001b[39m \u001b[38;5;28mself\u001b[39m\u001b[38;5;241m.\u001b[39mshape\n",
      "\u001b[1;31mValueError\u001b[0m: shape too large to be a matrix."
     ]
    }
   ],
   "source": [
    "np.mat(np.fromfunction(lambda i,j,k: i*j*k,(4,4,5),dtype='int'))"
   ]
  },
  {
   "cell_type": "code",
   "execution_count": 60,
   "id": "be214879",
   "metadata": {},
   "outputs": [],
   "source": [
    "a = np.fromfunction(lambda i,j,k: i*j*k,(4,3,2),dtype='int')"
   ]
  },
  {
   "cell_type": "code",
   "execution_count": 61,
   "id": "2758b31b",
   "metadata": {},
   "outputs": [
    {
     "data": {
      "text/plain": [
       "array([[[0, 0],\n",
       "        [0, 0],\n",
       "        [0, 0]],\n",
       "\n",
       "       [[0, 0],\n",
       "        [0, 1],\n",
       "        [0, 2]],\n",
       "\n",
       "       [[0, 0],\n",
       "        [0, 2],\n",
       "        [0, 4]],\n",
       "\n",
       "       [[0, 0],\n",
       "        [0, 3],\n",
       "        [0, 6]]])"
      ]
     },
     "execution_count": 61,
     "metadata": {},
     "output_type": "execute_result"
    }
   ],
   "source": [
    "a"
   ]
  },
  {
   "cell_type": "code",
   "execution_count": 63,
   "id": "38721706",
   "metadata": {},
   "outputs": [
    {
     "data": {
      "text/plain": [
       "3"
      ]
     },
     "execution_count": 63,
     "metadata": {},
     "output_type": "execute_result"
    }
   ],
   "source": [
    "a.ndim # returns the dimention of an array"
   ]
  },
  {
   "cell_type": "code",
   "execution_count": 65,
   "id": "5585990d",
   "metadata": {},
   "outputs": [
    {
     "data": {
      "text/plain": [
       "24"
      ]
     },
     "execution_count": 65,
     "metadata": {},
     "output_type": "execute_result"
    }
   ],
   "source": [
    "a.size #returns the number of elements in an array"
   ]
  },
  {
   "cell_type": "code",
   "execution_count": 66,
   "id": "2b1c2e3d",
   "metadata": {},
   "outputs": [
    {
     "data": {
      "text/plain": [
       "(4, 3, 2)"
      ]
     },
     "execution_count": 66,
     "metadata": {},
     "output_type": "execute_result"
    }
   ],
   "source": [
    "a.shape #return the shape of an array"
   ]
  },
  {
   "cell_type": "code",
   "execution_count": 67,
   "id": "4f3de147",
   "metadata": {},
   "outputs": [
    {
     "data": {
      "text/plain": [
       "dtype('int32')"
      ]
     },
     "execution_count": 67,
     "metadata": {},
     "output_type": "execute_result"
    }
   ],
   "source": [
    "a.dtype"
   ]
  },
  {
   "cell_type": "markdown",
   "id": "84a05272",
   "metadata": {},
   "source": [
    "Data frames are 2-d array. we can not convert the above array into data frame"
   ]
  },
  {
   "cell_type": "code",
   "execution_count": 68,
   "id": "dac431ee",
   "metadata": {},
   "outputs": [
    {
     "ename": "ValueError",
     "evalue": "Must pass 2-d input. shape=(4, 3, 2)",
     "output_type": "error",
     "traceback": [
      "\u001b[1;31m---------------------------------------------------------------------------\u001b[0m",
      "\u001b[1;31mValueError\u001b[0m                                Traceback (most recent call last)",
      "Cell \u001b[1;32mIn[68], line 1\u001b[0m\n\u001b[1;32m----> 1\u001b[0m pd\u001b[38;5;241m.\u001b[39mDataFrame(a)\n",
      "File \u001b[1;32m~\\anaconda3\\Lib\\site-packages\\pandas\\core\\frame.py:758\u001b[0m, in \u001b[0;36mDataFrame.__init__\u001b[1;34m(self, data, index, columns, dtype, copy)\u001b[0m\n\u001b[0;32m    747\u001b[0m         mgr \u001b[38;5;241m=\u001b[39m dict_to_mgr(\n\u001b[0;32m    748\u001b[0m             \u001b[38;5;66;03m# error: Item \"ndarray\" of \"Union[ndarray, Series, Index]\" has no\u001b[39;00m\n\u001b[0;32m    749\u001b[0m             \u001b[38;5;66;03m# attribute \"name\"\u001b[39;00m\n\u001b[1;32m   (...)\u001b[0m\n\u001b[0;32m    755\u001b[0m             copy\u001b[38;5;241m=\u001b[39m_copy,\n\u001b[0;32m    756\u001b[0m         )\n\u001b[0;32m    757\u001b[0m     \u001b[38;5;28;01melse\u001b[39;00m:\n\u001b[1;32m--> 758\u001b[0m         mgr \u001b[38;5;241m=\u001b[39m ndarray_to_mgr(\n\u001b[0;32m    759\u001b[0m             data,\n\u001b[0;32m    760\u001b[0m             index,\n\u001b[0;32m    761\u001b[0m             columns,\n\u001b[0;32m    762\u001b[0m             dtype\u001b[38;5;241m=\u001b[39mdtype,\n\u001b[0;32m    763\u001b[0m             copy\u001b[38;5;241m=\u001b[39mcopy,\n\u001b[0;32m    764\u001b[0m             typ\u001b[38;5;241m=\u001b[39mmanager,\n\u001b[0;32m    765\u001b[0m         )\n\u001b[0;32m    767\u001b[0m \u001b[38;5;66;03m# For data is list-like, or Iterable (will consume into list)\u001b[39;00m\n\u001b[0;32m    768\u001b[0m \u001b[38;5;28;01melif\u001b[39;00m is_list_like(data):\n",
      "File \u001b[1;32m~\\anaconda3\\Lib\\site-packages\\pandas\\core\\internals\\construction.py:315\u001b[0m, in \u001b[0;36mndarray_to_mgr\u001b[1;34m(values, index, columns, dtype, copy, typ)\u001b[0m\n\u001b[0;32m    309\u001b[0m     _copy \u001b[38;5;241m=\u001b[39m (\n\u001b[0;32m    310\u001b[0m         copy_on_sanitize\n\u001b[0;32m    311\u001b[0m         \u001b[38;5;28;01mif\u001b[39;00m (dtype \u001b[38;5;129;01mis\u001b[39;00m \u001b[38;5;28;01mNone\u001b[39;00m \u001b[38;5;129;01mor\u001b[39;00m astype_is_view(values\u001b[38;5;241m.\u001b[39mdtype, dtype))\n\u001b[0;32m    312\u001b[0m         \u001b[38;5;28;01melse\u001b[39;00m \u001b[38;5;28;01mFalse\u001b[39;00m\n\u001b[0;32m    313\u001b[0m     )\n\u001b[0;32m    314\u001b[0m     values \u001b[38;5;241m=\u001b[39m np\u001b[38;5;241m.\u001b[39marray(values, copy\u001b[38;5;241m=\u001b[39m_copy)\n\u001b[1;32m--> 315\u001b[0m     values \u001b[38;5;241m=\u001b[39m _ensure_2d(values)\n\u001b[0;32m    317\u001b[0m \u001b[38;5;28;01melse\u001b[39;00m:\n\u001b[0;32m    318\u001b[0m     \u001b[38;5;66;03m# by definition an array here\u001b[39;00m\n\u001b[0;32m    319\u001b[0m     \u001b[38;5;66;03m# the dtypes will be coerced to a single dtype\u001b[39;00m\n\u001b[0;32m    320\u001b[0m     values \u001b[38;5;241m=\u001b[39m _prep_ndarraylike(values, copy\u001b[38;5;241m=\u001b[39mcopy_on_sanitize)\n",
      "File \u001b[1;32m~\\anaconda3\\Lib\\site-packages\\pandas\\core\\internals\\construction.py:570\u001b[0m, in \u001b[0;36m_ensure_2d\u001b[1;34m(values)\u001b[0m\n\u001b[0;32m    568\u001b[0m     values \u001b[38;5;241m=\u001b[39m values\u001b[38;5;241m.\u001b[39mreshape((values\u001b[38;5;241m.\u001b[39mshape[\u001b[38;5;241m0\u001b[39m], \u001b[38;5;241m1\u001b[39m))\n\u001b[0;32m    569\u001b[0m \u001b[38;5;28;01melif\u001b[39;00m values\u001b[38;5;241m.\u001b[39mndim \u001b[38;5;241m!=\u001b[39m \u001b[38;5;241m2\u001b[39m:\n\u001b[1;32m--> 570\u001b[0m     \u001b[38;5;28;01mraise\u001b[39;00m \u001b[38;5;167;01mValueError\u001b[39;00m(\u001b[38;5;124mf\u001b[39m\u001b[38;5;124m\"\u001b[39m\u001b[38;5;124mMust pass 2-d input. shape=\u001b[39m\u001b[38;5;132;01m{\u001b[39;00mvalues\u001b[38;5;241m.\u001b[39mshape\u001b[38;5;132;01m}\u001b[39;00m\u001b[38;5;124m\"\u001b[39m)\n\u001b[0;32m    571\u001b[0m \u001b[38;5;28;01mreturn\u001b[39;00m values\n",
      "\u001b[1;31mValueError\u001b[0m: Must pass 2-d input. shape=(4, 3, 2)"
     ]
    }
   ],
   "source": [
    "pd.DataFrame(a)"
   ]
  },
  {
   "cell_type": "code",
   "execution_count": 69,
   "id": "e1914115",
   "metadata": {},
   "outputs": [],
   "source": [
    "a = np.fromfunction(lambda i,j: i*j,(400,300),dtype='int')"
   ]
  },
  {
   "cell_type": "code",
   "execution_count": 70,
   "id": "152ba369",
   "metadata": {},
   "outputs": [
    {
     "data": {
      "text/html": [
       "<div>\n",
       "<style scoped>\n",
       "    .dataframe tbody tr th:only-of-type {\n",
       "        vertical-align: middle;\n",
       "    }\n",
       "\n",
       "    .dataframe tbody tr th {\n",
       "        vertical-align: top;\n",
       "    }\n",
       "\n",
       "    .dataframe thead th {\n",
       "        text-align: right;\n",
       "    }\n",
       "</style>\n",
       "<table border=\"1\" class=\"dataframe\">\n",
       "  <thead>\n",
       "    <tr style=\"text-align: right;\">\n",
       "      <th></th>\n",
       "      <th>0</th>\n",
       "      <th>1</th>\n",
       "      <th>2</th>\n",
       "      <th>3</th>\n",
       "      <th>4</th>\n",
       "      <th>5</th>\n",
       "      <th>6</th>\n",
       "      <th>7</th>\n",
       "      <th>8</th>\n",
       "      <th>9</th>\n",
       "      <th>...</th>\n",
       "      <th>290</th>\n",
       "      <th>291</th>\n",
       "      <th>292</th>\n",
       "      <th>293</th>\n",
       "      <th>294</th>\n",
       "      <th>295</th>\n",
       "      <th>296</th>\n",
       "      <th>297</th>\n",
       "      <th>298</th>\n",
       "      <th>299</th>\n",
       "    </tr>\n",
       "  </thead>\n",
       "  <tbody>\n",
       "    <tr>\n",
       "      <th>0</th>\n",
       "      <td>0</td>\n",
       "      <td>0</td>\n",
       "      <td>0</td>\n",
       "      <td>0</td>\n",
       "      <td>0</td>\n",
       "      <td>0</td>\n",
       "      <td>0</td>\n",
       "      <td>0</td>\n",
       "      <td>0</td>\n",
       "      <td>0</td>\n",
       "      <td>...</td>\n",
       "      <td>0</td>\n",
       "      <td>0</td>\n",
       "      <td>0</td>\n",
       "      <td>0</td>\n",
       "      <td>0</td>\n",
       "      <td>0</td>\n",
       "      <td>0</td>\n",
       "      <td>0</td>\n",
       "      <td>0</td>\n",
       "      <td>0</td>\n",
       "    </tr>\n",
       "    <tr>\n",
       "      <th>1</th>\n",
       "      <td>0</td>\n",
       "      <td>1</td>\n",
       "      <td>2</td>\n",
       "      <td>3</td>\n",
       "      <td>4</td>\n",
       "      <td>5</td>\n",
       "      <td>6</td>\n",
       "      <td>7</td>\n",
       "      <td>8</td>\n",
       "      <td>9</td>\n",
       "      <td>...</td>\n",
       "      <td>290</td>\n",
       "      <td>291</td>\n",
       "      <td>292</td>\n",
       "      <td>293</td>\n",
       "      <td>294</td>\n",
       "      <td>295</td>\n",
       "      <td>296</td>\n",
       "      <td>297</td>\n",
       "      <td>298</td>\n",
       "      <td>299</td>\n",
       "    </tr>\n",
       "    <tr>\n",
       "      <th>2</th>\n",
       "      <td>0</td>\n",
       "      <td>2</td>\n",
       "      <td>4</td>\n",
       "      <td>6</td>\n",
       "      <td>8</td>\n",
       "      <td>10</td>\n",
       "      <td>12</td>\n",
       "      <td>14</td>\n",
       "      <td>16</td>\n",
       "      <td>18</td>\n",
       "      <td>...</td>\n",
       "      <td>580</td>\n",
       "      <td>582</td>\n",
       "      <td>584</td>\n",
       "      <td>586</td>\n",
       "      <td>588</td>\n",
       "      <td>590</td>\n",
       "      <td>592</td>\n",
       "      <td>594</td>\n",
       "      <td>596</td>\n",
       "      <td>598</td>\n",
       "    </tr>\n",
       "    <tr>\n",
       "      <th>3</th>\n",
       "      <td>0</td>\n",
       "      <td>3</td>\n",
       "      <td>6</td>\n",
       "      <td>9</td>\n",
       "      <td>12</td>\n",
       "      <td>15</td>\n",
       "      <td>18</td>\n",
       "      <td>21</td>\n",
       "      <td>24</td>\n",
       "      <td>27</td>\n",
       "      <td>...</td>\n",
       "      <td>870</td>\n",
       "      <td>873</td>\n",
       "      <td>876</td>\n",
       "      <td>879</td>\n",
       "      <td>882</td>\n",
       "      <td>885</td>\n",
       "      <td>888</td>\n",
       "      <td>891</td>\n",
       "      <td>894</td>\n",
       "      <td>897</td>\n",
       "    </tr>\n",
       "    <tr>\n",
       "      <th>4</th>\n",
       "      <td>0</td>\n",
       "      <td>4</td>\n",
       "      <td>8</td>\n",
       "      <td>12</td>\n",
       "      <td>16</td>\n",
       "      <td>20</td>\n",
       "      <td>24</td>\n",
       "      <td>28</td>\n",
       "      <td>32</td>\n",
       "      <td>36</td>\n",
       "      <td>...</td>\n",
       "      <td>1160</td>\n",
       "      <td>1164</td>\n",
       "      <td>1168</td>\n",
       "      <td>1172</td>\n",
       "      <td>1176</td>\n",
       "      <td>1180</td>\n",
       "      <td>1184</td>\n",
       "      <td>1188</td>\n",
       "      <td>1192</td>\n",
       "      <td>1196</td>\n",
       "    </tr>\n",
       "    <tr>\n",
       "      <th>...</th>\n",
       "      <td>...</td>\n",
       "      <td>...</td>\n",
       "      <td>...</td>\n",
       "      <td>...</td>\n",
       "      <td>...</td>\n",
       "      <td>...</td>\n",
       "      <td>...</td>\n",
       "      <td>...</td>\n",
       "      <td>...</td>\n",
       "      <td>...</td>\n",
       "      <td>...</td>\n",
       "      <td>...</td>\n",
       "      <td>...</td>\n",
       "      <td>...</td>\n",
       "      <td>...</td>\n",
       "      <td>...</td>\n",
       "      <td>...</td>\n",
       "      <td>...</td>\n",
       "      <td>...</td>\n",
       "      <td>...</td>\n",
       "      <td>...</td>\n",
       "    </tr>\n",
       "    <tr>\n",
       "      <th>395</th>\n",
       "      <td>0</td>\n",
       "      <td>395</td>\n",
       "      <td>790</td>\n",
       "      <td>1185</td>\n",
       "      <td>1580</td>\n",
       "      <td>1975</td>\n",
       "      <td>2370</td>\n",
       "      <td>2765</td>\n",
       "      <td>3160</td>\n",
       "      <td>3555</td>\n",
       "      <td>...</td>\n",
       "      <td>114550</td>\n",
       "      <td>114945</td>\n",
       "      <td>115340</td>\n",
       "      <td>115735</td>\n",
       "      <td>116130</td>\n",
       "      <td>116525</td>\n",
       "      <td>116920</td>\n",
       "      <td>117315</td>\n",
       "      <td>117710</td>\n",
       "      <td>118105</td>\n",
       "    </tr>\n",
       "    <tr>\n",
       "      <th>396</th>\n",
       "      <td>0</td>\n",
       "      <td>396</td>\n",
       "      <td>792</td>\n",
       "      <td>1188</td>\n",
       "      <td>1584</td>\n",
       "      <td>1980</td>\n",
       "      <td>2376</td>\n",
       "      <td>2772</td>\n",
       "      <td>3168</td>\n",
       "      <td>3564</td>\n",
       "      <td>...</td>\n",
       "      <td>114840</td>\n",
       "      <td>115236</td>\n",
       "      <td>115632</td>\n",
       "      <td>116028</td>\n",
       "      <td>116424</td>\n",
       "      <td>116820</td>\n",
       "      <td>117216</td>\n",
       "      <td>117612</td>\n",
       "      <td>118008</td>\n",
       "      <td>118404</td>\n",
       "    </tr>\n",
       "    <tr>\n",
       "      <th>397</th>\n",
       "      <td>0</td>\n",
       "      <td>397</td>\n",
       "      <td>794</td>\n",
       "      <td>1191</td>\n",
       "      <td>1588</td>\n",
       "      <td>1985</td>\n",
       "      <td>2382</td>\n",
       "      <td>2779</td>\n",
       "      <td>3176</td>\n",
       "      <td>3573</td>\n",
       "      <td>...</td>\n",
       "      <td>115130</td>\n",
       "      <td>115527</td>\n",
       "      <td>115924</td>\n",
       "      <td>116321</td>\n",
       "      <td>116718</td>\n",
       "      <td>117115</td>\n",
       "      <td>117512</td>\n",
       "      <td>117909</td>\n",
       "      <td>118306</td>\n",
       "      <td>118703</td>\n",
       "    </tr>\n",
       "    <tr>\n",
       "      <th>398</th>\n",
       "      <td>0</td>\n",
       "      <td>398</td>\n",
       "      <td>796</td>\n",
       "      <td>1194</td>\n",
       "      <td>1592</td>\n",
       "      <td>1990</td>\n",
       "      <td>2388</td>\n",
       "      <td>2786</td>\n",
       "      <td>3184</td>\n",
       "      <td>3582</td>\n",
       "      <td>...</td>\n",
       "      <td>115420</td>\n",
       "      <td>115818</td>\n",
       "      <td>116216</td>\n",
       "      <td>116614</td>\n",
       "      <td>117012</td>\n",
       "      <td>117410</td>\n",
       "      <td>117808</td>\n",
       "      <td>118206</td>\n",
       "      <td>118604</td>\n",
       "      <td>119002</td>\n",
       "    </tr>\n",
       "    <tr>\n",
       "      <th>399</th>\n",
       "      <td>0</td>\n",
       "      <td>399</td>\n",
       "      <td>798</td>\n",
       "      <td>1197</td>\n",
       "      <td>1596</td>\n",
       "      <td>1995</td>\n",
       "      <td>2394</td>\n",
       "      <td>2793</td>\n",
       "      <td>3192</td>\n",
       "      <td>3591</td>\n",
       "      <td>...</td>\n",
       "      <td>115710</td>\n",
       "      <td>116109</td>\n",
       "      <td>116508</td>\n",
       "      <td>116907</td>\n",
       "      <td>117306</td>\n",
       "      <td>117705</td>\n",
       "      <td>118104</td>\n",
       "      <td>118503</td>\n",
       "      <td>118902</td>\n",
       "      <td>119301</td>\n",
       "    </tr>\n",
       "  </tbody>\n",
       "</table>\n",
       "<p>400 rows × 300 columns</p>\n",
       "</div>"
      ],
      "text/plain": [
       "     0    1    2     3     4     5     6     7     8     9    ...     290  \\\n",
       "0      0    0    0     0     0     0     0     0     0     0  ...       0   \n",
       "1      0    1    2     3     4     5     6     7     8     9  ...     290   \n",
       "2      0    2    4     6     8    10    12    14    16    18  ...     580   \n",
       "3      0    3    6     9    12    15    18    21    24    27  ...     870   \n",
       "4      0    4    8    12    16    20    24    28    32    36  ...    1160   \n",
       "..   ...  ...  ...   ...   ...   ...   ...   ...   ...   ...  ...     ...   \n",
       "395    0  395  790  1185  1580  1975  2370  2765  3160  3555  ...  114550   \n",
       "396    0  396  792  1188  1584  1980  2376  2772  3168  3564  ...  114840   \n",
       "397    0  397  794  1191  1588  1985  2382  2779  3176  3573  ...  115130   \n",
       "398    0  398  796  1194  1592  1990  2388  2786  3184  3582  ...  115420   \n",
       "399    0  399  798  1197  1596  1995  2394  2793  3192  3591  ...  115710   \n",
       "\n",
       "        291     292     293     294     295     296     297     298     299  \n",
       "0         0       0       0       0       0       0       0       0       0  \n",
       "1       291     292     293     294     295     296     297     298     299  \n",
       "2       582     584     586     588     590     592     594     596     598  \n",
       "3       873     876     879     882     885     888     891     894     897  \n",
       "4      1164    1168    1172    1176    1180    1184    1188    1192    1196  \n",
       "..      ...     ...     ...     ...     ...     ...     ...     ...     ...  \n",
       "395  114945  115340  115735  116130  116525  116920  117315  117710  118105  \n",
       "396  115236  115632  116028  116424  116820  117216  117612  118008  118404  \n",
       "397  115527  115924  116321  116718  117115  117512  117909  118306  118703  \n",
       "398  115818  116216  116614  117012  117410  117808  118206  118604  119002  \n",
       "399  116109  116508  116907  117306  117705  118104  118503  118902  119301  \n",
       "\n",
       "[400 rows x 300 columns]"
      ]
     },
     "execution_count": 70,
     "metadata": {},
     "output_type": "execute_result"
    }
   ],
   "source": [
    "pd.DataFrame(a)"
   ]
  },
  {
   "cell_type": "markdown",
   "id": "970634a4",
   "metadata": {},
   "source": [
    "We can creat random data using numpy"
   ]
  },
  {
   "cell_type": "code",
   "execution_count": 95,
   "id": "70bfe26e",
   "metadata": {},
   "outputs": [
    {
     "data": {
      "text/plain": [
       "array([[5.27104612e-02, 5.80046715e-01, 1.71698867e-01, 4.29843746e-01],\n",
       "       [5.04124351e-02, 7.85185276e-01, 6.12200689e-01, 5.73905980e-02],\n",
       "       [9.88134565e-01, 2.22183165e-01, 8.88650270e-01, 2.51108399e-01],\n",
       "       [8.80835124e-01, 3.01211862e-01, 1.46446001e-01, 2.46203891e-01],\n",
       "       [8.08720130e-01, 2.06763914e-01, 7.14492435e-01, 1.16251771e-01],\n",
       "       [6.88151247e-01, 9.41642860e-01, 7.73461167e-01, 8.13570101e-02],\n",
       "       [9.07787952e-01, 3.69703121e-01, 7.75338975e-01, 4.20692345e-01],\n",
       "       [1.05124491e-01, 2.69021246e-01, 7.49646888e-01, 3.23632668e-01],\n",
       "       [9.36721958e-01, 2.12616046e-01, 9.11623834e-01, 5.51401728e-01],\n",
       "       [5.74598541e-01, 1.81794432e-01, 4.03596686e-01, 4.28569704e-01],\n",
       "       [9.31047091e-01, 4.99422264e-01, 4.94707161e-02, 2.15886034e-01],\n",
       "       [2.67842108e-01, 2.79699883e-02, 4.31856487e-01, 4.02737232e-01],\n",
       "       [5.89345160e-02, 4.80454059e-01, 8.63871659e-01, 7.62073052e-01],\n",
       "       [9.09857958e-01, 1.02726727e-01, 8.37797610e-01, 9.37308448e-01],\n",
       "       [5.92254465e-01, 4.20303663e-01, 7.51810129e-01, 8.84268468e-01],\n",
       "       [6.82415315e-02, 2.41269018e-01, 9.92122283e-01, 3.68645700e-01],\n",
       "       [1.88717650e-02, 5.56191030e-01, 4.65908648e-01, 4.12669791e-01],\n",
       "       [8.48871870e-01, 7.28347664e-01, 1.26923424e-01, 2.22445583e-01],\n",
       "       [5.81174496e-01, 2.37543696e-01, 9.96495956e-01, 7.01528762e-01],\n",
       "       [3.84052983e-01, 3.82674284e-01, 5.98711174e-01, 7.94887255e-01],\n",
       "       [5.85953923e-01, 2.35725895e-01, 3.36488032e-01, 4.59100084e-01],\n",
       "       [9.76109294e-02, 7.61953801e-01, 5.94912163e-01, 3.42892930e-01],\n",
       "       [4.90392609e-01, 1.86830208e-01, 8.60895857e-01, 2.51626506e-01],\n",
       "       [1.31932025e-01, 7.80456646e-01, 1.71381711e-01, 4.48426918e-01],\n",
       "       [8.99400148e-02, 1.36409725e-01, 6.29493715e-01, 1.83225713e-01],\n",
       "       [1.57701915e-01, 4.66027059e-01, 4.65836038e-01, 5.88923768e-01],\n",
       "       [8.88277354e-02, 4.93981269e-01, 8.57961550e-01, 6.16268535e-01],\n",
       "       [5.02785951e-02, 4.19287019e-02, 3.89826874e-01, 8.09565194e-01],\n",
       "       [8.36504998e-01, 9.53149853e-01, 8.42950595e-01, 8.26763433e-01],\n",
       "       [8.77461045e-01, 2.69765954e-01, 6.39319493e-01, 7.89913375e-01],\n",
       "       [4.20561929e-01, 7.44765229e-01, 1.17008304e-01, 1.38535318e-01],\n",
       "       [6.55341839e-02, 6.75455170e-01, 8.68550688e-01, 9.43406438e-01],\n",
       "       [1.23625795e-01, 6.38077606e-02, 7.23497992e-01, 6.19665849e-01],\n",
       "       [4.10052673e-01, 6.08254146e-01, 3.51091463e-01, 5.73831081e-01],\n",
       "       [4.49122644e-01, 7.99390273e-01, 3.64856843e-01, 4.54052251e-01],\n",
       "       [2.88902106e-01, 3.84015053e-01, 6.69810241e-01, 7.93265047e-01],\n",
       "       [1.45388009e-01, 1.72097896e-01, 8.78744457e-01, 6.50604179e-02],\n",
       "       [5.10437268e-01, 8.34284506e-01, 4.84994580e-01, 3.02630719e-01],\n",
       "       [2.11786004e-01, 3.43212508e-01, 7.76871031e-02, 7.62920527e-01],\n",
       "       [9.82409493e-01, 9.59372623e-01, 4.35312804e-01, 9.25618283e-01],\n",
       "       [2.74078155e-02, 7.72206867e-01, 6.05805725e-01, 1.56477036e-01],\n",
       "       [1.11604919e-01, 8.53107670e-02, 4.37023612e-01, 2.64830033e-01],\n",
       "       [5.35470321e-01, 5.32373853e-01, 4.75261888e-01, 7.38646924e-01],\n",
       "       [3.27456566e-01, 2.86130646e-01, 6.74014420e-01, 7.58155020e-01],\n",
       "       [6.69178126e-01, 4.25567376e-01, 7.72644360e-01, 4.66246919e-01],\n",
       "       [8.01170576e-01, 9.84692164e-01, 8.33974684e-01, 3.05187752e-01],\n",
       "       [3.15875944e-01, 6.89594216e-01, 7.32809852e-02, 2.67455665e-01],\n",
       "       [5.99505255e-01, 6.56859675e-02, 3.80052042e-01, 8.44774549e-01],\n",
       "       [2.65790579e-01, 9.51474386e-02, 2.06927596e-01, 6.96880754e-01],\n",
       "       [1.53810027e-01, 5.70599193e-01, 8.41270726e-01, 1.04029979e-01],\n",
       "       [9.39317803e-01, 5.23157681e-01, 7.25303054e-02, 3.26744746e-01],\n",
       "       [4.02541683e-01, 4.49154845e-01, 9.84540480e-01, 4.10165763e-01],\n",
       "       [6.64101126e-01, 6.18988432e-01, 6.60978866e-01, 6.07050024e-01],\n",
       "       [6.93803620e-01, 6.81221132e-01, 2.70105037e-01, 1.69011267e-01],\n",
       "       [3.67146418e-01, 6.36928393e-01, 6.73988456e-04, 1.11657679e-01],\n",
       "       [2.04021866e-01, 5.94179294e-01, 5.36967591e-01, 1.69531302e-01],\n",
       "       [2.96587760e-01, 3.97415663e-01, 7.72466211e-01, 4.96393470e-01],\n",
       "       [5.53539561e-01, 1.84308571e-01, 6.65670202e-01, 8.19749871e-01],\n",
       "       [4.33550800e-01, 8.30616890e-01, 3.52638283e-01, 7.50866659e-01],\n",
       "       [8.77814755e-01, 5.96669370e-01, 4.16086583e-01, 4.35475852e-01],\n",
       "       [7.77476042e-01, 2.44353914e-01, 3.27934113e-01, 2.09535349e-01],\n",
       "       [9.47639574e-01, 2.46629413e-02, 4.54682242e-01, 4.48322524e-01],\n",
       "       [9.35306405e-01, 3.45698339e-01, 7.02814590e-01, 8.48433349e-01],\n",
       "       [2.97594464e-01, 4.60004193e-01, 4.52022338e-01, 8.61060804e-01],\n",
       "       [2.35140000e-01, 8.66364956e-01, 2.49765010e-01, 3.18586940e-01],\n",
       "       [3.74071578e-01, 5.18823208e-01, 6.76631373e-01, 1.37067831e-01],\n",
       "       [1.92939709e-01, 4.49869399e-01, 4.24212395e-01, 4.82550851e-01],\n",
       "       [4.63875550e-01, 9.73817188e-02, 2.71351473e-01, 6.22228198e-01],\n",
       "       [9.28629774e-01, 5.14873046e-01, 5.05707599e-02, 1.23208275e-01],\n",
       "       [1.55810449e-01, 4.98038158e-01, 5.78479493e-02, 2.75730740e-01],\n",
       "       [9.18046519e-01, 2.00491928e-01, 3.30245671e-01, 1.01287741e-01],\n",
       "       [2.27677469e-01, 6.17815899e-01, 4.91539548e-01, 4.11209318e-01],\n",
       "       [6.29243337e-01, 2.00816109e-01, 8.63897238e-01, 5.73215369e-01],\n",
       "       [6.82089382e-01, 6.13905751e-01, 3.21976982e-01, 8.62883950e-01],\n",
       "       [2.42650417e-01, 6.10012425e-01, 8.28231328e-01, 8.17718468e-01],\n",
       "       [7.79902761e-01, 6.64591248e-01, 8.45281656e-01, 1.22052516e-01],\n",
       "       [6.12353751e-01, 2.34341194e-01, 6.62141660e-01, 4.83303916e-01],\n",
       "       [6.44594892e-01, 7.83740283e-01, 8.36361081e-01, 1.88063202e-02],\n",
       "       [6.21919037e-01, 7.72120484e-01, 7.79617581e-01, 2.60427669e-01],\n",
       "       [5.99208849e-01, 6.58656875e-01, 9.96487176e-02, 1.10401870e-01],\n",
       "       [9.88434871e-01, 5.68393677e-01, 1.42228757e-01, 9.98380048e-01],\n",
       "       [2.27186463e-01, 9.40277716e-01, 4.89757383e-01, 9.69782918e-01],\n",
       "       [6.95428708e-01, 6.82309438e-01, 9.57033137e-01, 3.79097964e-01],\n",
       "       [2.95081594e-01, 4.97886914e-02, 1.91947531e-01, 2.19285178e-01],\n",
       "       [8.06517871e-01, 4.38412583e-01, 4.09261578e-01, 9.78328304e-01],\n",
       "       [6.83688983e-01, 1.69817173e-01, 7.15213153e-01, 8.39370185e-02],\n",
       "       [1.86673636e-01, 4.75024832e-01, 8.44430110e-01, 2.75214734e-01],\n",
       "       [8.97042347e-01, 5.53304369e-01, 8.81868722e-01, 1.18599549e-02],\n",
       "       [9.46282630e-01, 1.64796533e-01, 7.26459115e-01, 5.72285977e-01],\n",
       "       [2.26817739e-01, 4.66143037e-01, 1.99905571e-01, 9.48176019e-01],\n",
       "       [9.17819489e-01, 6.08912566e-01, 6.60651433e-01, 6.37173799e-01],\n",
       "       [3.53009971e-01, 6.09513007e-01, 7.83359033e-01, 3.31439374e-01],\n",
       "       [8.20028121e-02, 3.23331898e-01, 4.62137885e-01, 7.79112875e-01],\n",
       "       [5.11567647e-01, 1.39146217e-01, 7.50143741e-02, 8.62355621e-01],\n",
       "       [3.93620928e-01, 4.13123976e-01, 7.65847624e-01, 7.12694673e-01],\n",
       "       [4.47377756e-01, 7.39601865e-01, 4.72582405e-01, 1.65540741e-01],\n",
       "       [7.57627156e-01, 4.30174488e-01, 2.29023819e-01, 4.90296373e-01],\n",
       "       [6.86515144e-02, 1.98302501e-01, 3.20827079e-01, 9.14862109e-01],\n",
       "       [1.21477467e-01, 6.20610447e-01, 3.21023767e-01, 8.96406630e-01],\n",
       "       [1.60851923e-01, 6.22417825e-01, 7.26191771e-01, 3.93491607e-01]])"
      ]
     },
     "execution_count": 95,
     "metadata": {},
     "output_type": "execute_result"
    }
   ],
   "source": [
    "np.random.rand(100,4) # here, (100,4) is a size of an required array"
   ]
  },
  {
   "cell_type": "code",
   "execution_count": 77,
   "id": "820e9d34",
   "metadata": {},
   "outputs": [
    {
     "data": {
      "text/plain": [
       "46"
      ]
     },
     "execution_count": 77,
     "metadata": {},
     "output_type": "execute_result"
    }
   ],
   "source": [
    "np.random.randint(4,50) # it gives random integer between 4 to 50"
   ]
  },
  {
   "cell_type": "code",
   "execution_count": 79,
   "id": "c9366447",
   "metadata": {},
   "outputs": [
    {
     "data": {
      "text/plain": [
       "array([[ 0.29796992, -0.33734585,  0.77140636,  0.05039566,  1.54267555],\n",
       "       [ 1.55681418,  1.30445194,  1.69026397, -0.03891625, -0.70545799],\n",
       "       [-0.45757056,  0.4744076 , -0.56813646,  2.17554487,  0.1906861 ],\n",
       "       [-0.43507464,  0.62181212, -2.31750884,  1.85147002,  1.46235844]])"
      ]
     },
     "execution_count": 79,
     "metadata": {},
     "output_type": "execute_result"
    }
   ],
   "source": [
    "np.random.randn(4,5) #this gives random numbers that are normally distributed(standard normal distribution)"
   ]
  },
  {
   "cell_type": "markdown",
   "id": "5451bcb0",
   "metadata": {},
   "source": [
    "we can reshape the array but the reshape is only possible when the shape of an array must be equal to number of element."
   ]
  },
  {
   "cell_type": "code",
   "execution_count": 80,
   "id": "b1419099",
   "metadata": {},
   "outputs": [
    {
     "data": {
      "text/plain": [
       "array([[     0,      0,      0, ...,      0,      0,      0],\n",
       "       [     0,      1,      2, ...,    297,    298,    299],\n",
       "       [     0,      2,      4, ...,    594,    596,    598],\n",
       "       ...,\n",
       "       [     0,    397,    794, ..., 117909, 118306, 118703],\n",
       "       [     0,    398,    796, ..., 118206, 118604, 119002],\n",
       "       [     0,    399,    798, ..., 118503, 118902, 119301]])"
      ]
     },
     "execution_count": 80,
     "metadata": {},
     "output_type": "execute_result"
    }
   ],
   "source": [
    "a"
   ]
  },
  {
   "cell_type": "code",
   "execution_count": 81,
   "id": "79766e14",
   "metadata": {},
   "outputs": [],
   "source": [
    "a = np.fromfunction(lambda i,j,k: i*j*k,(4,3,2),dtype='int')"
   ]
  },
  {
   "cell_type": "code",
   "execution_count": 82,
   "id": "246bd9ef",
   "metadata": {},
   "outputs": [
    {
     "data": {
      "text/plain": [
       "array([[[0, 0],\n",
       "        [0, 0],\n",
       "        [0, 0]],\n",
       "\n",
       "       [[0, 0],\n",
       "        [0, 1],\n",
       "        [0, 2]],\n",
       "\n",
       "       [[0, 0],\n",
       "        [0, 2],\n",
       "        [0, 4]],\n",
       "\n",
       "       [[0, 0],\n",
       "        [0, 3],\n",
       "        [0, 6]]])"
      ]
     },
     "execution_count": 82,
     "metadata": {},
     "output_type": "execute_result"
    }
   ],
   "source": [
    "a"
   ]
  },
  {
   "cell_type": "code",
   "execution_count": 83,
   "id": "e77264d2",
   "metadata": {},
   "outputs": [
    {
     "data": {
      "text/plain": [
       "array([[0, 0, 0, 0, 0, 0, 0, 0, 0, 1, 0, 2],\n",
       "       [0, 0, 0, 2, 0, 4, 0, 0, 0, 3, 0, 6]])"
      ]
     },
     "execution_count": 83,
     "metadata": {},
     "output_type": "execute_result"
    }
   ],
   "source": [
    "a.reshape(2,12)"
   ]
  },
  {
   "cell_type": "code",
   "execution_count": 84,
   "id": "2f453f63",
   "metadata": {},
   "outputs": [
    {
     "data": {
      "text/plain": [
       "[4, 5, 6, 7, 8, 9]"
      ]
     },
     "execution_count": 84,
     "metadata": {},
     "output_type": "execute_result"
    }
   ],
   "source": [
    "list(range(4,10))"
   ]
  },
  {
   "cell_type": "code",
   "execution_count": 86,
   "id": "f501da86",
   "metadata": {},
   "outputs": [
    {
     "ename": "TypeError",
     "evalue": "'float' object cannot be interpreted as an integer",
     "output_type": "error",
     "traceback": [
      "\u001b[1;31m---------------------------------------------------------------------------\u001b[0m",
      "\u001b[1;31mTypeError\u001b[0m                                 Traceback (most recent call last)",
      "Cell \u001b[1;32mIn[86], line 1\u001b[0m\n\u001b[1;32m----> 1\u001b[0m \u001b[38;5;28mlist\u001b[39m(\u001b[38;5;28mrange\u001b[39m(\u001b[38;5;241m4\u001b[39m,\u001b[38;5;241m10\u001b[39m,\u001b[38;5;241m.2\u001b[39m))\n",
      "\u001b[1;31mTypeError\u001b[0m: 'float' object cannot be interpreted as an integer"
     ]
    }
   ],
   "source": [
    "list(range(4,10,.2))"
   ]
  },
  {
   "cell_type": "code",
   "execution_count": 88,
   "id": "0b23ac5d",
   "metadata": {},
   "outputs": [
    {
     "data": {
      "text/plain": [
       "array([4. , 4.2, 4.4, 4.6, 4.8, 5. , 5.2, 5.4, 5.6, 5.8, 6. , 6.2, 6.4,\n",
       "       6.6, 6.8, 7. , 7.2, 7.4, 7.6, 7.8, 8. , 8.2, 8.4, 8.6, 8.8, 9. ,\n",
       "       9.2, 9.4, 9.6, 9.8])"
      ]
     },
     "execution_count": 88,
     "metadata": {},
     "output_type": "execute_result"
    }
   ],
   "source": [
    "# but in numpy we can jump decimally\n",
    "np.arange(4,10,0.2)"
   ]
  },
  {
   "cell_type": "code",
   "execution_count": 89,
   "id": "da9feb16",
   "metadata": {},
   "outputs": [
    {
     "data": {
      "text/plain": [
       "array([4.5, 5.5, 6.5, 7.5, 8.5, 9.5])"
      ]
     },
     "execution_count": 89,
     "metadata": {},
     "output_type": "execute_result"
    }
   ],
   "source": [
    "np.arange(4.5,10.3)"
   ]
  },
  {
   "cell_type": "code",
   "execution_count": 90,
   "id": "d4e9e011",
   "metadata": {},
   "outputs": [],
   "source": [
    "#slicing\n",
    "a1 = np.arange(4,10,0.2)"
   ]
  },
  {
   "cell_type": "code",
   "execution_count": 91,
   "id": "850b88cd",
   "metadata": {},
   "outputs": [
    {
     "data": {
      "text/plain": [
       "array([4.2, 4.4, 4.6])"
      ]
     },
     "execution_count": 91,
     "metadata": {},
     "output_type": "execute_result"
    }
   ],
   "source": [
    "a1[1:4]"
   ]
  },
  {
   "cell_type": "code",
   "execution_count": 93,
   "id": "78045a75",
   "metadata": {},
   "outputs": [],
   "source": [
    "arr = np.random.rand(4,5)"
   ]
  },
  {
   "cell_type": "code",
   "execution_count": 94,
   "id": "50912596",
   "metadata": {},
   "outputs": [
    {
     "data": {
      "text/plain": [
       "array([[0.77815348, 0.41152318, 0.24716081, 0.77024809, 0.04440072],\n",
       "       [0.14189675, 0.67478399, 0.3710347 , 0.84920636, 0.83082645],\n",
       "       [0.28157815, 0.84123882, 0.96387242, 0.15943739, 0.49050917],\n",
       "       [0.65028777, 0.31470899, 0.72803774, 0.55991283, 0.9781499 ]])"
      ]
     },
     "execution_count": 94,
     "metadata": {},
     "output_type": "execute_result"
    }
   ],
   "source": [
    "arr"
   ]
  },
  {
   "cell_type": "code",
   "execution_count": 97,
   "id": "f12a8093",
   "metadata": {},
   "outputs": [
    {
     "data": {
      "text/plain": [
       "array([0.77815348, 0.77024809, 0.67478399, 0.84920636, 0.83082645,\n",
       "       0.84123882, 0.96387242, 0.65028777, 0.72803774, 0.55991283,\n",
       "       0.9781499 ])"
      ]
     },
     "execution_count": 97,
     "metadata": {},
     "output_type": "execute_result"
    }
   ],
   "source": [
    "arr[arr > 0.5]"
   ]
  },
  {
   "cell_type": "code",
   "execution_count": 99,
   "id": "c767b24b",
   "metadata": {},
   "outputs": [
    {
     "data": {
      "text/plain": [
       "array([0.3710347 , 0.96387242])"
      ]
     },
     "execution_count": 99,
     "metadata": {},
     "output_type": "execute_result"
    }
   ],
   "source": [
    "# if youn want to extract specified values\n",
    "arr[[1,2],[2]]"
   ]
  },
  {
   "cell_type": "code",
   "execution_count": 100,
   "id": "be74fd0e",
   "metadata": {},
   "outputs": [
    {
     "data": {
      "text/plain": [
       "array([[0.3710347 ],\n",
       "       [0.96387242]])"
      ]
     },
     "execution_count": 100,
     "metadata": {},
     "output_type": "execute_result"
    }
   ],
   "source": [
    "arr[1:3,2:3]"
   ]
  },
  {
   "cell_type": "code",
   "execution_count": 103,
   "id": "7e3fd85f",
   "metadata": {},
   "outputs": [],
   "source": [
    "# we can overwrite the data also\n",
    "arr[1:3]= 333"
   ]
  },
  {
   "cell_type": "code",
   "execution_count": 104,
   "id": "b40dff72",
   "metadata": {},
   "outputs": [
    {
     "data": {
      "text/plain": [
       "array([[7.78153480e-01, 4.11523183e-01, 2.47160807e-01, 7.70248093e-01,\n",
       "        4.44007177e-02],\n",
       "       [3.33000000e+02, 3.33000000e+02, 3.33000000e+02, 3.33000000e+02,\n",
       "        3.33000000e+02],\n",
       "       [3.33000000e+02, 3.33000000e+02, 3.33000000e+02, 3.33000000e+02,\n",
       "        3.33000000e+02],\n",
       "       [6.50287768e-01, 3.14708988e-01, 7.28037737e-01, 5.59912826e-01,\n",
       "        9.78149901e-01]])"
      ]
     },
     "execution_count": 104,
     "metadata": {},
     "output_type": "execute_result"
    }
   ],
   "source": [
    "arr"
   ]
  },
  {
   "cell_type": "code",
   "execution_count": 108,
   "id": "c3134503",
   "metadata": {},
   "outputs": [
    {
     "data": {
      "text/plain": [
       "(array([[1, 2],\n",
       "        [3, 4]]),\n",
       " array([[5, 6],\n",
       "        [7, 8]]))"
      ]
     },
     "execution_count": 108,
     "metadata": {},
     "output_type": "execute_result"
    }
   ],
   "source": [
    "a = np.array([[1,2],[3,4]])\n",
    "b = np.array([[5,6],[7,8]])\n",
    "a,b"
   ]
  },
  {
   "cell_type": "code",
   "execution_count": 109,
   "id": "25e2ffd2",
   "metadata": {},
   "outputs": [
    {
     "data": {
      "text/plain": [
       "array([[ 5, 12],\n",
       "       [21, 32]])"
      ]
     },
     "execution_count": 109,
     "metadata": {},
     "output_type": "execute_result"
    }
   ],
   "source": [
    "a*b # this is elementwise multiplication"
   ]
  },
  {
   "cell_type": "code",
   "execution_count": 111,
   "id": "c801bf89",
   "metadata": {},
   "outputs": [],
   "source": [
    "# matrix multiplication is also possible\n",
    "m = a@b"
   ]
  },
  {
   "cell_type": "markdown",
   "id": "0c532e6c",
   "metadata": {},
   "source": [
    "Unlike python core it does not give zero division error in numpy it returns infinity instead."
   ]
  },
  {
   "cell_type": "code",
   "execution_count": 113,
   "id": "fe792388",
   "metadata": {},
   "outputs": [
    {
     "name": "stderr",
     "output_type": "stream",
     "text": [
      "C:\\Users\\49179\\AppData\\Local\\Temp\\ipykernel_10408\\3791875896.py:1: RuntimeWarning: divide by zero encountered in divide\n",
      "  m/0\n"
     ]
    },
    {
     "data": {
      "text/plain": [
       "array([[inf, inf],\n",
       "       [inf, inf]])"
      ]
     },
     "execution_count": 113,
     "metadata": {},
     "output_type": "execute_result"
    }
   ],
   "source": [
    "m/0"
   ]
  },
  {
   "cell_type": "code",
   "execution_count": 116,
   "id": "251f85eb",
   "metadata": {},
   "outputs": [
    {
     "data": {
      "text/plain": [
       "array([0., 0., 0., 0., 0.])"
      ]
     },
     "execution_count": 116,
     "metadata": {},
     "output_type": "execute_result"
    }
   ],
   "source": [
    "np.zeros(5) # np.zeros() return an array of all zero values of given size"
   ]
  },
  {
   "cell_type": "code",
   "execution_count": 117,
   "id": "91231794",
   "metadata": {},
   "outputs": [
    {
     "data": {
      "text/plain": [
       "array([[0., 0., 0., 0.],\n",
       "       [0., 0., 0., 0.],\n",
       "       [0., 0., 0., 0.]])"
      ]
     },
     "execution_count": 117,
     "metadata": {},
     "output_type": "execute_result"
    }
   ],
   "source": [
    "# if we want 2-d array we can get\n",
    "np.zeros((3,4))"
   ]
  },
  {
   "cell_type": "code",
   "execution_count": 118,
   "id": "8c477b91",
   "metadata": {},
   "outputs": [
    {
     "data": {
      "text/plain": [
       "array([[[0., 0., 0., 0., 0.],\n",
       "        [0., 0., 0., 0., 0.],\n",
       "        [0., 0., 0., 0., 0.],\n",
       "        [0., 0., 0., 0., 0.]],\n",
       "\n",
       "       [[0., 0., 0., 0., 0.],\n",
       "        [0., 0., 0., 0., 0.],\n",
       "        [0., 0., 0., 0., 0.],\n",
       "        [0., 0., 0., 0., 0.]],\n",
       "\n",
       "       [[0., 0., 0., 0., 0.],\n",
       "        [0., 0., 0., 0., 0.],\n",
       "        [0., 0., 0., 0., 0.],\n",
       "        [0., 0., 0., 0., 0.]]])"
      ]
     },
     "execution_count": 118,
     "metadata": {},
     "output_type": "execute_result"
    }
   ],
   "source": [
    "np.zeros((3,4,5))"
   ]
  },
  {
   "cell_type": "code",
   "execution_count": 119,
   "id": "db0c0f67",
   "metadata": {},
   "outputs": [
    {
     "data": {
      "text/plain": [
       "array([1., 1., 1., 1., 1.])"
      ]
     },
     "execution_count": 119,
     "metadata": {},
     "output_type": "execute_result"
    }
   ],
   "source": [
    "# like np.zeros, there is function like np.ones()\n",
    "np.ones(5)"
   ]
  },
  {
   "cell_type": "code",
   "execution_count": 120,
   "id": "156d66cd",
   "metadata": {},
   "outputs": [
    {
     "data": {
      "text/plain": [
       "array([[[1., 1., 1., 1., 1.],\n",
       "        [1., 1., 1., 1., 1.],\n",
       "        [1., 1., 1., 1., 1.],\n",
       "        [1., 1., 1., 1., 1.]],\n",
       "\n",
       "       [[1., 1., 1., 1., 1.],\n",
       "        [1., 1., 1., 1., 1.],\n",
       "        [1., 1., 1., 1., 1.],\n",
       "        [1., 1., 1., 1., 1.]],\n",
       "\n",
       "       [[1., 1., 1., 1., 1.],\n",
       "        [1., 1., 1., 1., 1.],\n",
       "        [1., 1., 1., 1., 1.],\n",
       "        [1., 1., 1., 1., 1.]]])"
      ]
     },
     "execution_count": 120,
     "metadata": {},
     "output_type": "execute_result"
    }
   ],
   "source": [
    "np.ones((3,4,5))"
   ]
  },
  {
   "cell_type": "code",
   "execution_count": 121,
   "id": "c0eab507",
   "metadata": {},
   "outputs": [
    {
     "data": {
      "text/plain": [
       "array([5., 5., 5., 5., 5.])"
      ]
     },
     "execution_count": 121,
     "metadata": {},
     "output_type": "execute_result"
    }
   ],
   "source": [
    "# We can perform some operations with np.zeros\n",
    "np.zeros(5)+5"
   ]
  },
  {
   "cell_type": "code",
   "execution_count": 123,
   "id": "e5eeb306",
   "metadata": {},
   "outputs": [
    {
     "data": {
      "text/plain": [
       "array([[6., 6., 6., 6.],\n",
       "       [6., 6., 6., 6.],\n",
       "       [6., 6., 6., 6.]])"
      ]
     },
     "execution_count": 123,
     "metadata": {},
     "output_type": "execute_result"
    }
   ],
   "source": [
    "5+np.ones((3,4))"
   ]
  },
  {
   "cell_type": "code",
   "execution_count": 129,
   "id": "24b906c6",
   "metadata": {},
   "outputs": [
    {
     "data": {
      "text/plain": [
       "array([[0.00000000e+000, 0.00000000e+000, 2.12199579e-314,\n",
       "        2.12199579e-314],\n",
       "       [4.24399158e-314, 4.24399158e-314, 6.36598737e-314,\n",
       "        6.36598737e-314],\n",
       "       [2.12199579e-314, 6.36598737e-314, 2.12199579e-314,\n",
       "        6.36598737e-314],\n",
       "       [2.12199579e-314, 6.36598737e-314, 2.12199579e-314,\n",
       "        6.36598737e-314]])"
      ]
     },
     "execution_count": 129,
     "metadata": {},
     "output_type": "execute_result"
    }
   ],
   "source": [
    "np.empty((4,4))"
   ]
  },
  {
   "cell_type": "markdown",
   "id": "f65ae85f",
   "metadata": {},
   "source": [
    "# Numpy functions"
   ]
  },
  {
   "cell_type": "code",
   "execution_count": 132,
   "id": "b5167f26",
   "metadata": {},
   "outputs": [
    {
     "data": {
      "text/plain": [
       "array([1.        , 1.08163265, 1.16326531, 1.24489796, 1.32653061,\n",
       "       1.40816327, 1.48979592, 1.57142857, 1.65306122, 1.73469388,\n",
       "       1.81632653, 1.89795918, 1.97959184, 2.06122449, 2.14285714,\n",
       "       2.2244898 , 2.30612245, 2.3877551 , 2.46938776, 2.55102041,\n",
       "       2.63265306, 2.71428571, 2.79591837, 2.87755102, 2.95918367,\n",
       "       3.04081633, 3.12244898, 3.20408163, 3.28571429, 3.36734694,\n",
       "       3.44897959, 3.53061224, 3.6122449 , 3.69387755, 3.7755102 ,\n",
       "       3.85714286, 3.93877551, 4.02040816, 4.10204082, 4.18367347,\n",
       "       4.26530612, 4.34693878, 4.42857143, 4.51020408, 4.59183673,\n",
       "       4.67346939, 4.75510204, 4.83673469, 4.91836735, 5.        ])"
      ]
     },
     "execution_count": 132,
     "metadata": {},
     "output_type": "execute_result"
    }
   ],
   "source": [
    "# np.linspace generates 50 numbers by degault that are evenly distanced between start to end\n",
    "np.linspace(1,5)"
   ]
  },
  {
   "cell_type": "code",
   "execution_count": 131,
   "id": "59c7ed5d",
   "metadata": {},
   "outputs": [
    {
     "data": {
      "text/plain": [
       "array([1, 2, 3, 4])"
      ]
     },
     "execution_count": 131,
     "metadata": {},
     "output_type": "execute_result"
    }
   ],
   "source": [
    "np.arange(1,5) # np.arrange is different like this"
   ]
  },
  {
   "cell_type": "code",
   "execution_count": 133,
   "id": "f1b3cd4d",
   "metadata": {},
   "outputs": [
    {
     "data": {
      "text/plain": [
       "array([1.        , 1.44444444, 1.88888889, 2.33333333, 2.77777778,\n",
       "       3.22222222, 3.66666667, 4.11111111, 4.55555556, 5.        ])"
      ]
     },
     "execution_count": 133,
     "metadata": {},
     "output_type": "execute_result"
    }
   ],
   "source": [
    "# we can have the amount of numbers we want\n",
    "np.linspace(1,5,10)"
   ]
  },
  {
   "cell_type": "code",
   "execution_count": 135,
   "id": "b074a1a8",
   "metadata": {},
   "outputs": [
    {
     "data": {
      "text/plain": [
       "array([1. , 1.4, 1.8, 2.2, 2.6, 3. , 3.4, 3.8, 4.2, 4.6])"
      ]
     },
     "execution_count": 135,
     "metadata": {},
     "output_type": "execute_result"
    }
   ],
   "source": [
    "np.linspace(1,5,10,endpoint= False) # we won't get the last point"
   ]
  },
  {
   "cell_type": "code",
   "execution_count": 137,
   "id": "4f3edd66",
   "metadata": {},
   "outputs": [
    {
     "data": {
      "text/plain": [
       "(array([1.        , 1.44444444, 1.88888889, 2.33333333, 2.77777778,\n",
       "        3.22222222, 3.66666667, 4.11111111, 4.55555556, 5.        ]),\n",
       " 0.4444444444444444)"
      ]
     },
     "execution_count": 137,
     "metadata": {},
     "output_type": "execute_result"
    }
   ],
   "source": [
    "np.linspace(1,5,10,retstep=True) # we can get the step sizes also"
   ]
  },
  {
   "cell_type": "code",
   "execution_count": 139,
   "id": "d69814b7",
   "metadata": {},
   "outputs": [
    {
     "data": {
      "text/plain": [
       "array([  10.        ,   16.68100537,   27.82559402,   46.41588834,\n",
       "         77.42636827,  129.1549665 ,  215.443469  ,  359.38136638,\n",
       "        599.48425032, 1000.        ])"
      ]
     },
     "execution_count": 139,
     "metadata": {},
     "output_type": "execute_result"
    }
   ],
   "source": [
    "np.logspace(1,3,10,base=10) # this one is the similar to the linspace and returns the value with its log values"
   ]
  },
  {
   "cell_type": "code",
   "execution_count": 172,
   "id": "cf533921",
   "metadata": {},
   "outputs": [],
   "source": [
    "# Another function is max() to find the maximum\n",
    "a = np.arange(1,26).reshape(5,5)"
   ]
  },
  {
   "cell_type": "code",
   "execution_count": 173,
   "id": "58abf87f",
   "metadata": {},
   "outputs": [
    {
     "data": {
      "text/plain": [
       "array([[ 1,  2,  3,  4,  5],\n",
       "       [ 6,  7,  8,  9, 10],\n",
       "       [11, 12, 13, 14, 15],\n",
       "       [16, 17, 18, 19, 20],\n",
       "       [21, 22, 23, 24, 25]])"
      ]
     },
     "execution_count": 173,
     "metadata": {},
     "output_type": "execute_result"
    }
   ],
   "source": [
    "a"
   ]
  },
  {
   "cell_type": "code",
   "execution_count": 174,
   "id": "08210294",
   "metadata": {},
   "outputs": [
    {
     "data": {
      "text/plain": [
       "25"
      ]
     },
     "execution_count": 174,
     "metadata": {},
     "output_type": "execute_result"
    }
   ],
   "source": [
    "a.max()"
   ]
  },
  {
   "cell_type": "code",
   "execution_count": 175,
   "id": "bd8c143f",
   "metadata": {},
   "outputs": [
    {
     "data": {
      "text/plain": [
       "array([21, 22, 23, 24, 25])"
      ]
     },
     "execution_count": 175,
     "metadata": {},
     "output_type": "execute_result"
    }
   ],
   "source": [
    "a.max(axis=0)"
   ]
  },
  {
   "cell_type": "code",
   "execution_count": 176,
   "id": "f600b33f",
   "metadata": {},
   "outputs": [
    {
     "data": {
      "text/plain": [
       "array([ 5, 10, 15, 20, 25])"
      ]
     },
     "execution_count": 176,
     "metadata": {},
     "output_type": "execute_result"
    }
   ],
   "source": [
    "a.max(axis=1)"
   ]
  },
  {
   "cell_type": "code",
   "execution_count": 177,
   "id": "a0302eb0",
   "metadata": {},
   "outputs": [
    {
     "name": "stderr",
     "output_type": "stream",
     "text": [
      "C:\\Users\\49179\\AppData\\Local\\Temp\\ipykernel_10408\\4102073204.py:1: RuntimeWarning: divide by zero encountered in divide\n",
      "  a/0\n"
     ]
    },
    {
     "data": {
      "text/plain": [
       "array([[inf, inf, inf, inf, inf],\n",
       "       [inf, inf, inf, inf, inf],\n",
       "       [inf, inf, inf, inf, inf],\n",
       "       [inf, inf, inf, inf, inf],\n",
       "       [inf, inf, inf, inf, inf]])"
      ]
     },
     "execution_count": 177,
     "metadata": {},
     "output_type": "execute_result"
    }
   ],
   "source": [
    "a/0"
   ]
  },
  {
   "cell_type": "code",
   "execution_count": 178,
   "id": "8345d49f",
   "metadata": {},
   "outputs": [
    {
     "data": {
      "text/plain": [
       "array([[ 25,  50,  75, 100, 125],\n",
       "       [150, 175, 200, 225, 250],\n",
       "       [275, 300, 325, 350, 375],\n",
       "       [400, 425, 450, 475, 500],\n",
       "       [525, 550, 575, 600, 625]])"
      ]
     },
     "execution_count": 178,
     "metadata": {},
     "output_type": "execute_result"
    }
   ],
   "source": [
    "a*25"
   ]
  },
  {
   "cell_type": "code",
   "execution_count": 179,
   "id": "2e0c245a",
   "metadata": {},
   "outputs": [
    {
     "data": {
      "text/plain": [
       "array([[    1,     8,    27,    64,   125],\n",
       "       [  216,   343,   512,   729,  1000],\n",
       "       [ 1331,  1728,  2197,  2744,  3375],\n",
       "       [ 4096,  4913,  5832,  6859,  8000],\n",
       "       [ 9261, 10648, 12167, 13824, 15625]], dtype=int32)"
      ]
     },
     "execution_count": 179,
     "metadata": {},
     "output_type": "execute_result"
    }
   ],
   "source": [
    "pow(a,3) # it equals to a**3"
   ]
  },
  {
   "cell_type": "code",
   "execution_count": 185,
   "id": "3fffd3e9",
   "metadata": {},
   "outputs": [],
   "source": [
    "b= np.array([2,3,5,4,7])"
   ]
  },
  {
   "cell_type": "code",
   "execution_count": 186,
   "id": "eff93e4a",
   "metadata": {},
   "outputs": [
    {
     "data": {
      "text/plain": [
       "array([[ 3,  5,  8,  8, 12],\n",
       "       [ 8, 10, 13, 13, 17],\n",
       "       [13, 15, 18, 18, 22],\n",
       "       [18, 20, 23, 23, 27],\n",
       "       [23, 25, 28, 28, 32]])"
      ]
     },
     "execution_count": 186,
     "metadata": {},
     "output_type": "execute_result"
    }
   ],
   "source": [
    "a+b # this is a row-wise addition"
   ]
  },
  {
   "cell_type": "code",
   "execution_count": 187,
   "id": "8be8b4d9",
   "metadata": {},
   "outputs": [
    {
     "data": {
      "text/plain": [
       "array([[ 3,  5,  8,  8, 12],\n",
       "       [ 8, 10, 13, 13, 17],\n",
       "       [13, 15, 18, 18, 22],\n",
       "       [18, 20, 23, 23, 27],\n",
       "       [23, 25, 28, 28, 32]])"
      ]
     },
     "execution_count": 187,
     "metadata": {},
     "output_type": "execute_result"
    }
   ],
   "source": [
    "# to perform column wise addition we need to take transpose\n",
    "a + b.T"
   ]
  },
  {
   "cell_type": "code",
   "execution_count": 188,
   "id": "8cfabc1b",
   "metadata": {},
   "outputs": [],
   "source": [
    "# The answer after does not change because b is a 1-D array we need to reshape into 2-D array\n",
    "\n",
    "b= b.reshape(1,-1)"
   ]
  },
  {
   "cell_type": "code",
   "execution_count": 189,
   "id": "c1d4734f",
   "metadata": {},
   "outputs": [
    {
     "data": {
      "text/plain": [
       "array([[2],\n",
       "       [3],\n",
       "       [5],\n",
       "       [4],\n",
       "       [7]])"
      ]
     },
     "execution_count": 189,
     "metadata": {},
     "output_type": "execute_result"
    }
   ],
   "source": [
    "b.T"
   ]
  },
  {
   "cell_type": "code",
   "execution_count": 190,
   "id": "cbf04e1d",
   "metadata": {},
   "outputs": [
    {
     "data": {
      "text/plain": [
       "array([[ 3,  4,  5,  6,  7],\n",
       "       [ 9, 10, 11, 12, 13],\n",
       "       [16, 17, 18, 19, 20],\n",
       "       [20, 21, 22, 23, 24],\n",
       "       [28, 29, 30, 31, 32]])"
      ]
     },
     "execution_count": 190,
     "metadata": {},
     "output_type": "execute_result"
    }
   ],
   "source": [
    "a + b.T"
   ]
  },
  {
   "cell_type": "code",
   "execution_count": 191,
   "id": "4acbec31",
   "metadata": {},
   "outputs": [
    {
     "data": {
      "text/plain": [
       "array([[ 1,  2,  3,  4,  5],\n",
       "       [ 6,  7,  8,  9, 10],\n",
       "       [11, 12, 13, 14, 15],\n",
       "       [16, 17, 18, 19, 20],\n",
       "       [21, 22, 23, 24, 25]])"
      ]
     },
     "execution_count": 191,
     "metadata": {},
     "output_type": "execute_result"
    }
   ],
   "source": [
    "a"
   ]
  },
  {
   "cell_type": "code",
   "execution_count": 192,
   "id": "f3323f8d",
   "metadata": {},
   "outputs": [
    {
     "data": {
      "text/plain": [
       "array([[1.        , 1.41421356, 1.73205081, 2.        , 2.23606798],\n",
       "       [2.44948974, 2.64575131, 2.82842712, 3.        , 3.16227766],\n",
       "       [3.31662479, 3.46410162, 3.60555128, 3.74165739, 3.87298335],\n",
       "       [4.        , 4.12310563, 4.24264069, 4.35889894, 4.47213595],\n",
       "       [4.58257569, 4.69041576, 4.79583152, 4.89897949, 5.        ]])"
      ]
     },
     "execution_count": 192,
     "metadata": {},
     "output_type": "execute_result"
    }
   ],
   "source": [
    "np.sqrt(a) # To find the square root "
   ]
  },
  {
   "cell_type": "code",
   "execution_count": 194,
   "id": "d38e9532",
   "metadata": {},
   "outputs": [
    {
     "data": {
      "text/plain": [
       "array([[2.71828183e+00, 7.38905610e+00, 2.00855369e+01, 5.45981500e+01,\n",
       "        1.48413159e+02],\n",
       "       [4.03428793e+02, 1.09663316e+03, 2.98095799e+03, 8.10308393e+03,\n",
       "        2.20264658e+04],\n",
       "       [5.98741417e+04, 1.62754791e+05, 4.42413392e+05, 1.20260428e+06,\n",
       "        3.26901737e+06],\n",
       "       [8.88611052e+06, 2.41549528e+07, 6.56599691e+07, 1.78482301e+08,\n",
       "        4.85165195e+08],\n",
       "       [1.31881573e+09, 3.58491285e+09, 9.74480345e+09, 2.64891221e+10,\n",
       "        7.20048993e+10]])"
      ]
     },
     "execution_count": 194,
     "metadata": {},
     "output_type": "execute_result"
    }
   ],
   "source": [
    "np.exp(a) # to find the exponetial"
   ]
  },
  {
   "cell_type": "code",
   "execution_count": 207,
   "id": "bbb154a1",
   "metadata": {},
   "outputs": [],
   "source": [
    "x= np.asarray([12,34,56,78])"
   ]
  },
  {
   "cell_type": "code",
   "execution_count": 208,
   "id": "e27b5c60",
   "metadata": {},
   "outputs": [],
   "source": [
    "y=x"
   ]
  },
  {
   "cell_type": "code",
   "execution_count": 209,
   "id": "8527f7a5",
   "metadata": {},
   "outputs": [
    {
     "data": {
      "text/plain": [
       "array([12, 34, 56, 78])"
      ]
     },
     "execution_count": 209,
     "metadata": {},
     "output_type": "execute_result"
    }
   ],
   "source": [
    "y"
   ]
  },
  {
   "cell_type": "code",
   "execution_count": 210,
   "id": "935f770a",
   "metadata": {},
   "outputs": [],
   "source": [
    "z= np.copy(x)"
   ]
  },
  {
   "cell_type": "code",
   "execution_count": 211,
   "id": "940077a4",
   "metadata": {},
   "outputs": [
    {
     "data": {
      "text/plain": [
       "array([12, 34, 56, 78])"
      ]
     },
     "execution_count": 211,
     "metadata": {},
     "output_type": "execute_result"
    }
   ],
   "source": [
    "z"
   ]
  },
  {
   "cell_type": "code",
   "execution_count": 212,
   "id": "ede72b5d",
   "metadata": {},
   "outputs": [],
   "source": [
    "x[2] = 45"
   ]
  },
  {
   "cell_type": "code",
   "execution_count": 213,
   "id": "2714e1de",
   "metadata": {},
   "outputs": [
    {
     "data": {
      "text/plain": [
       "array([12, 34, 45, 78])"
      ]
     },
     "execution_count": 213,
     "metadata": {},
     "output_type": "execute_result"
    }
   ],
   "source": [
    "x"
   ]
  },
  {
   "cell_type": "code",
   "execution_count": 214,
   "id": "416aad87",
   "metadata": {},
   "outputs": [
    {
     "data": {
      "text/plain": [
       "array([12, 34, 45, 78])"
      ]
     },
     "execution_count": 214,
     "metadata": {},
     "output_type": "execute_result"
    }
   ],
   "source": [
    "y"
   ]
  },
  {
   "cell_type": "code",
   "execution_count": 215,
   "id": "225f58d6",
   "metadata": {},
   "outputs": [
    {
     "data": {
      "text/plain": [
       "array([12, 34, 56, 78])"
      ]
     },
     "execution_count": 215,
     "metadata": {},
     "output_type": "execute_result"
    }
   ],
   "source": [
    "z"
   ]
  },
  {
   "cell_type": "code",
   "execution_count": null,
   "id": "f45ef188",
   "metadata": {},
   "outputs": [],
   "source": []
  }
 ],
 "metadata": {
  "kernelspec": {
   "display_name": "Python 3 (ipykernel)",
   "language": "python",
   "name": "python3"
  },
  "language_info": {
   "codemirror_mode": {
    "name": "ipython",
    "version": 3
   },
   "file_extension": ".py",
   "mimetype": "text/x-python",
   "name": "python",
   "nbconvert_exporter": "python",
   "pygments_lexer": "ipython3",
   "version": "3.11.5"
  }
 },
 "nbformat": 4,
 "nbformat_minor": 5
}
